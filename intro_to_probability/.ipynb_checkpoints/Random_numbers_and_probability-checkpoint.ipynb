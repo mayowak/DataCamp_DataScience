{
 "cells": [
  {
   "cell_type": "code",
   "execution_count": 1,
   "metadata": {},
   "outputs": [],
   "source": [
    "import numpy as np\n",
    "import pandas as pd\n",
    "import matplotlib.pyplot as plt"
   ]
  },
  {
   "cell_type": "code",
   "execution_count": 3,
   "metadata": {},
   "outputs": [],
   "source": [
    "amir_deals = pd.read_csv('amir_deals.csv')"
   ]
  },
  {
   "cell_type": "code",
   "execution_count": 4,
   "metadata": {},
   "outputs": [
    {
     "data": {
      "text/html": [
       "<div>\n",
       "<style scoped>\n",
       "    .dataframe tbody tr th:only-of-type {\n",
       "        vertical-align: middle;\n",
       "    }\n",
       "\n",
       "    .dataframe tbody tr th {\n",
       "        vertical-align: top;\n",
       "    }\n",
       "\n",
       "    .dataframe thead th {\n",
       "        text-align: right;\n",
       "    }\n",
       "</style>\n",
       "<table border=\"1\" class=\"dataframe\">\n",
       "  <thead>\n",
       "    <tr style=\"text-align: right;\">\n",
       "      <th></th>\n",
       "      <th>Unnamed: 0</th>\n",
       "      <th>product</th>\n",
       "      <th>client</th>\n",
       "      <th>status</th>\n",
       "      <th>amount</th>\n",
       "      <th>num_users</th>\n",
       "    </tr>\n",
       "  </thead>\n",
       "  <tbody>\n",
       "    <tr>\n",
       "      <th>0</th>\n",
       "      <td>1</td>\n",
       "      <td>Product F</td>\n",
       "      <td>Current</td>\n",
       "      <td>Won</td>\n",
       "      <td>7389.52</td>\n",
       "      <td>19</td>\n",
       "    </tr>\n",
       "    <tr>\n",
       "      <th>1</th>\n",
       "      <td>2</td>\n",
       "      <td>Product C</td>\n",
       "      <td>New</td>\n",
       "      <td>Won</td>\n",
       "      <td>4493.01</td>\n",
       "      <td>43</td>\n",
       "    </tr>\n",
       "    <tr>\n",
       "      <th>2</th>\n",
       "      <td>3</td>\n",
       "      <td>Product B</td>\n",
       "      <td>New</td>\n",
       "      <td>Won</td>\n",
       "      <td>5738.09</td>\n",
       "      <td>87</td>\n",
       "    </tr>\n",
       "    <tr>\n",
       "      <th>3</th>\n",
       "      <td>4</td>\n",
       "      <td>Product I</td>\n",
       "      <td>Current</td>\n",
       "      <td>Won</td>\n",
       "      <td>2591.24</td>\n",
       "      <td>83</td>\n",
       "    </tr>\n",
       "    <tr>\n",
       "      <th>4</th>\n",
       "      <td>5</td>\n",
       "      <td>Product E</td>\n",
       "      <td>Current</td>\n",
       "      <td>Won</td>\n",
       "      <td>6622.97</td>\n",
       "      <td>17</td>\n",
       "    </tr>\n",
       "  </tbody>\n",
       "</table>\n",
       "</div>"
      ],
      "text/plain": [
       "   Unnamed: 0    product   client status   amount  num_users\n",
       "0           1  Product F  Current    Won  7389.52         19\n",
       "1           2  Product C      New    Won  4493.01         43\n",
       "2           3  Product B      New    Won  5738.09         87\n",
       "3           4  Product I  Current    Won  2591.24         83\n",
       "4           5  Product E  Current    Won  6622.97         17"
      ]
     },
     "execution_count": 4,
     "metadata": {},
     "output_type": "execute_result"
    }
   ],
   "source": [
    "amir_deals.head()"
   ]
  },
  {
   "cell_type": "code",
   "execution_count": 5,
   "metadata": {},
   "outputs": [
    {
     "data": {
      "text/html": [
       "<div>\n",
       "<style scoped>\n",
       "    .dataframe tbody tr th:only-of-type {\n",
       "        vertical-align: middle;\n",
       "    }\n",
       "\n",
       "    .dataframe tbody tr th {\n",
       "        vertical-align: top;\n",
       "    }\n",
       "\n",
       "    .dataframe thead th {\n",
       "        text-align: right;\n",
       "    }\n",
       "</style>\n",
       "<table border=\"1\" class=\"dataframe\">\n",
       "  <thead>\n",
       "    <tr style=\"text-align: right;\">\n",
       "      <th></th>\n",
       "      <th>Unnamed: 0</th>\n",
       "      <th>product</th>\n",
       "      <th>client</th>\n",
       "      <th>status</th>\n",
       "      <th>amount</th>\n",
       "      <th>num_users</th>\n",
       "    </tr>\n",
       "  </thead>\n",
       "  <tbody>\n",
       "    <tr>\n",
       "      <th>173</th>\n",
       "      <td>174</td>\n",
       "      <td>Product A</td>\n",
       "      <td>Current</td>\n",
       "      <td>Lost</td>\n",
       "      <td>5835.32</td>\n",
       "      <td>23</td>\n",
       "    </tr>\n",
       "    <tr>\n",
       "      <th>174</th>\n",
       "      <td>175</td>\n",
       "      <td>Product D</td>\n",
       "      <td>Current</td>\n",
       "      <td>Won</td>\n",
       "      <td>6377.50</td>\n",
       "      <td>12</td>\n",
       "    </tr>\n",
       "    <tr>\n",
       "      <th>175</th>\n",
       "      <td>176</td>\n",
       "      <td>Product D</td>\n",
       "      <td>Current</td>\n",
       "      <td>Won</td>\n",
       "      <td>3537.61</td>\n",
       "      <td>28</td>\n",
       "    </tr>\n",
       "    <tr>\n",
       "      <th>176</th>\n",
       "      <td>177</td>\n",
       "      <td>Product A</td>\n",
       "      <td>Current</td>\n",
       "      <td>Won</td>\n",
       "      <td>6448.07</td>\n",
       "      <td>34</td>\n",
       "    </tr>\n",
       "    <tr>\n",
       "      <th>177</th>\n",
       "      <td>178</td>\n",
       "      <td>Product D</td>\n",
       "      <td>New</td>\n",
       "      <td>Lost</td>\n",
       "      <td>7320.05</td>\n",
       "      <td>72</td>\n",
       "    </tr>\n",
       "  </tbody>\n",
       "</table>\n",
       "</div>"
      ],
      "text/plain": [
       "     Unnamed: 0    product   client status   amount  num_users\n",
       "173         174  Product A  Current   Lost  5835.32         23\n",
       "174         175  Product D  Current    Won  6377.50         12\n",
       "175         176  Product D  Current    Won  3537.61         28\n",
       "176         177  Product A  Current    Won  6448.07         34\n",
       "177         178  Product D      New   Lost  7320.05         72"
      ]
     },
     "execution_count": 5,
     "metadata": {},
     "output_type": "execute_result"
    }
   ],
   "source": [
    "amir_deals.tail()"
   ]
  },
  {
   "cell_type": "code",
   "execution_count": 6,
   "metadata": {},
   "outputs": [
    {
     "name": "stdout",
     "output_type": "stream",
     "text": [
      "Product B    62\n",
      "Product D    40\n",
      "Product A    23\n",
      "Product C    15\n",
      "Product F    11\n",
      "Product H     8\n",
      "Product I     7\n",
      "Product E     5\n",
      "Product N     3\n",
      "Product G     2\n",
      "Product J     2\n",
      "Name: product, dtype: int64\n"
     ]
    }
   ],
   "source": [
    "# Count the deals for each product\n",
    "counts = amir_deals['product'].value_counts()\n",
    "print(counts)"
   ]
  },
  {
   "cell_type": "code",
   "execution_count": 7,
   "metadata": {},
   "outputs": [
    {
     "name": "stdout",
     "output_type": "stream",
     "text": [
      "Product B    0.348315\n",
      "Product D    0.224719\n",
      "Product A    0.129213\n",
      "Product C    0.084270\n",
      "Product F    0.061798\n",
      "Product H    0.044944\n",
      "Product I    0.039326\n",
      "Product E    0.028090\n",
      "Product N    0.016854\n",
      "Product G    0.011236\n",
      "Product J    0.011236\n",
      "Name: product, dtype: float64\n"
     ]
    }
   ],
   "source": [
    "# Calculate probability of picking a deal with each product\n",
    "probability = counts / amir_deals.shape[0]\n",
    "print(probability)"
   ]
  },
  {
   "cell_type": "code",
   "execution_count": 8,
   "metadata": {},
   "outputs": [],
   "source": [
    "# Set random seed\n",
    "np.random.seed(24)"
   ]
  },
  {
   "cell_type": "code",
   "execution_count": 9,
   "metadata": {},
   "outputs": [
    {
     "name": "stdout",
     "output_type": "stream",
     "text": [
      "     Unnamed: 0    product   client status   amount  num_users\n",
      "127         128  Product B  Current    Won  2070.25          7\n",
      "148         149  Product D  Current    Won  3485.48         52\n",
      "77           78  Product B  Current    Won  6252.30         27\n",
      "104         105  Product D  Current    Won  4110.98         39\n",
      "166         167  Product C      New   Lost  3779.86         11\n"
     ]
    }
   ],
   "source": [
    "# Sample 5 deals without replacement\n",
    "sample_without_replacement = amir_deals.sample(5)\n",
    "print(sample_without_replacement)"
   ]
  },
  {
   "cell_type": "code",
   "execution_count": 10,
   "metadata": {},
   "outputs": [
    {
     "name": "stdout",
     "output_type": "stream",
     "text": [
      "     Unnamed: 0    product   client status   amount  num_users\n",
      "133         134  Product D  Current    Won  5992.86         98\n",
      "101         102  Product H  Current    Won  5116.34         63\n",
      "110         111  Product B  Current    Won   696.88         44\n",
      "49           50  Product B  Current    Won  3488.36         79\n",
      "56           57  Product D  Current    Won  6820.84         42\n"
     ]
    }
   ],
   "source": [
    "# Sample 5 deals with replacement\n",
    "sample_with_replacement = amir_deals.sample(5, replace=True)\n",
    "print(sample_with_replacement)"
   ]
  },
  {
   "cell_type": "code",
   "execution_count": 11,
   "metadata": {},
   "outputs": [],
   "source": [
    "# Min and max amir wait times for back-up that happens every 30 min using continuous uniform distribution\n",
    "min_time = 0\n",
    "max_time = 30"
   ]
  },
  {
   "cell_type": "code",
   "execution_count": 12,
   "metadata": {},
   "outputs": [],
   "source": [
    "# Import uniform from scipy.stats\n",
    "from scipy.stats import uniform"
   ]
  },
  {
   "cell_type": "code",
   "execution_count": 13,
   "metadata": {},
   "outputs": [
    {
     "name": "stdout",
     "output_type": "stream",
     "text": [
      "0.16666666666666666\n"
     ]
    }
   ],
   "source": [
    "# Calculate probability of amir waiting less than 5 mins\n",
    "prob_less_than_5 = uniform.cdf(5, min_time, max_time)\n",
    "print(prob_less_than_5)"
   ]
  },
  {
   "cell_type": "code",
   "execution_count": 14,
   "metadata": {},
   "outputs": [
    {
     "name": "stdout",
     "output_type": "stream",
     "text": [
      "0.8333333333333334\n"
     ]
    }
   ],
   "source": [
    "#Calculate the probability of amir waiting for more than 5 mins\n",
    "prob_greater_than_5 = 1 - uniform.cdf(5, min_time, max_time)\n",
    "print(prob_greater_than_5)"
   ]
  },
  {
   "cell_type": "code",
   "execution_count": 15,
   "metadata": {},
   "outputs": [
    {
     "name": "stdout",
     "output_type": "stream",
     "text": [
      "0.3333333333333333\n"
     ]
    }
   ],
   "source": [
    "# Calculate probability of amir waiting 10-20 mins\n",
    "prob_between_10_and_20 = uniform.cdf(20, min_time, max_time) - uniform.cdf(10, min_time, max_time)\n",
    "print(prob_between_10_and_20)"
   ]
  },
  {
   "cell_type": "code",
   "execution_count": 16,
   "metadata": {},
   "outputs": [],
   "source": [
    "# Set random seed to 334\n",
    "np.random.seed(334)"
   ]
  },
  {
   "cell_type": "code",
   "execution_count": 17,
   "metadata": {},
   "outputs": [],
   "source": [
    "# Import uniform\n",
    "from scipy.stats import uniform"
   ]
  },
  {
   "cell_type": "code",
   "execution_count": 19,
   "metadata": {},
   "outputs": [
    {
     "name": "stdout",
     "output_type": "stream",
     "text": [
      "[18.02470643 23.519618    9.88490103  2.4651489  15.5597737   6.49165715\n",
      "  7.56474939 26.04453623 14.11082999  7.75180706 16.47948828 22.9018111\n",
      " 14.78686265  8.93936027 10.30296128  9.27696058 22.19806281 13.28179067\n",
      " 21.86050864  2.55629955 17.06257675  9.48091148 20.85865084  9.72028371\n",
      " 22.63229097 21.57900892 23.935431   17.36008651 26.80050866  9.38708245\n",
      "  2.97794546 27.23209213 23.62487867 10.08493037 17.75084196  4.4576378\n",
      " 26.30385665 13.6938704   1.95697735 26.58726202  5.73267157 21.82148011\n",
      "  9.54225359 10.3007437  20.37353633 13.75034303  4.66529527  4.96403209\n",
      " 22.7626545  16.69820401  4.85157792 12.83944291 25.11482746  3.28931416\n",
      " 12.94581875  4.41119388 11.90428607  3.15563509 13.03751773 19.97053665\n",
      " 19.79847703 23.62192831 13.50572327  9.3761087   3.17705873 18.15924959\n",
      "  1.01499147  9.96929131 27.3871973  24.98045919 26.75357257 28.113278\n",
      " 26.02448382 28.24988311 18.72955363 26.57684498 23.35648609  5.27772201\n",
      " 27.00030546 14.01499899 12.42080186 19.2843056  13.80649272 15.45900978\n",
      " 16.85601583 21.64779867 14.67395749  3.76865177  4.2814796  24.0688628\n",
      "  5.69103786 20.10790121 22.5036527   8.69972464  2.52858965  2.10459066\n",
      " 24.82815777 17.90873787 22.24425341 19.18251751  3.98354285  1.09485321\n",
      " 19.04338219 17.35881751 29.11418    29.11992382 16.21846961  1.13776914\n",
      " 11.7618183  28.09742954 23.63603104  7.09979805 15.28885474 10.34126417\n",
      " 18.2474598  27.49165232  3.90368207 18.48054447  4.86834338 17.74462927\n",
      "  3.59287268 14.61188389  4.02173023  3.0113289   3.19219605 25.06630679\n",
      " 24.51929983 19.03260083 13.92713274 16.07335341  6.9569758  25.46558675\n",
      "  1.44852237  2.35119478 21.59370593 15.34779958 12.65945501 19.22565348\n",
      " 10.59083721 17.60091384  5.89559098  7.6143791  17.12872144 19.75685426\n",
      " 22.29039924  7.88437832  2.92957741 19.95523224 14.13001032 25.87649802\n",
      " 16.45449877  3.57463202  6.07725132 19.15086414 23.86912322  7.67595717\n",
      "  1.47613768 25.87601463  7.29377884 13.66111437 28.20518938 11.85405234\n",
      " 15.88629611  7.98723706  8.58043744  6.37005264 25.68267637 16.49650968\n",
      "  6.20321896  3.95959131 12.18786745 19.66839419 26.07219233 14.14110755\n",
      " 12.66071954 12.47353483  8.4705107   1.6338572  26.93497472 15.72810072\n",
      "  2.60758929  7.06087131 17.36477411 25.52177814  2.43025765 21.88195274\n",
      " 12.24308874  3.99663485  2.23614011 11.75808261  0.52195023 13.0914643\n",
      "  5.98534488  1.6481093  13.62589962 21.86430706  9.05989941 16.15367517\n",
      " 26.25230746 24.39526563 23.9400855  13.61558234  7.46727574 19.22727268\n",
      "  9.59560684 20.02958159 21.2853229  17.13536759 19.21070553 22.7027837\n",
      "  1.88953873 16.68301692 13.16136854 26.05155855  2.83301953 16.32398389\n",
      " 15.56452018 22.20310983  7.12746701 22.82049664 10.61172023  2.551029\n",
      "  0.81874937 27.18888085 26.46775318  1.55214022  8.45645076 16.47148862\n",
      "  3.57986941 26.56046036 15.56567645 11.68818668  5.16405188 15.69009037\n",
      "  5.45220632 25.42662451  6.59720944  0.30346576  5.33529425  1.41615486\n",
      " 12.51928343  2.03379892  3.51084872  5.88883688 24.47634299 23.58101096\n",
      " 28.09289028 22.84973261 20.65161177 17.6832472  25.77977368 15.86622274\n",
      " 11.61853853 12.6543072  14.14397763 17.58077609  7.30971039  5.69424801\n",
      "  3.02014403 24.51021797 22.52473461  4.46175337  8.37507672  8.66098429\n",
      " 13.8710612   5.10480487  4.43902414 14.44976394  1.22603553  5.90170529\n",
      " 23.83584371 20.81184737 11.99351406  6.06462375 23.89593687  5.70811336\n",
      " 26.34931297  5.46231973 27.16661719 21.03418498 16.00574805  0.34862433\n",
      "  5.01606953 16.64012789  8.84167482 15.16223055 27.22228996  3.24192379\n",
      " 16.03530639 14.6786549  17.504225   15.99327749 16.6369211  28.31166058\n",
      "  6.45574549 23.27533769 17.78631025 26.96206386 24.41373909  4.45229704\n",
      "  1.68791538  1.48536947 19.30529579 25.25689578 10.40145067 23.13680986\n",
      "  1.00826471 14.59378637  1.94667257  3.3387339  10.47113914  8.9968148\n",
      " 23.16321069 25.7999443  19.34714305  6.08631803 29.58066208  8.0111719\n",
      "  5.6899531  27.51980802  2.83817583 17.34927478 26.18610423 14.50201675\n",
      " 26.04123778 27.60416939 29.74930547 17.50888301 26.74468179 27.54068699\n",
      "  4.7384039   7.20248897 11.13000615  5.79477715  3.87128748 16.20319316\n",
      "  8.29495261 25.36304812 16.88547205 12.35418489 24.3086538   2.15933524\n",
      " 25.36993708 28.80646443 13.48921315 12.56872943  1.38880341  6.65693078\n",
      "  3.35686264 17.16351367 16.83137639  8.94698401 29.68783153 22.5779501\n",
      " 26.93789663 28.97755122 12.96204271  9.3861772  28.89669307  4.55590745\n",
      " 29.98812433  9.34952505  7.08937752 26.45224273 26.2493757  26.48671817\n",
      " 21.31260853 21.88701095 18.55984267 17.36845611 20.49715615 26.20846456\n",
      "  5.57996497 24.22104809 27.22403998  4.40943013  2.39943861  8.65503997\n",
      "  6.49614877 19.20261294  4.82127268 21.65981351  8.64032572 12.27289164\n",
      " 24.91721735  2.80525207 21.49143843 20.71485858 13.49119732 16.24830502\n",
      " 25.58464557 10.55960868  0.06508846 10.43761757 14.18434352 13.60110593\n",
      "  0.97444463 18.24176256 18.75532888 28.86698473 28.29912204 22.1280001\n",
      " 10.20611263 12.70406072 12.70066302 25.6333069   8.81005803  0.60088014\n",
      " 26.36985113  0.14512856  8.30345965 15.81943408  6.34141076 18.12007528\n",
      "  4.4195448  12.22860395 24.17265753 10.84090317 29.82109013 22.96486795\n",
      " 25.37907502 28.40701636 14.53033571 10.8589888  23.33750159  9.26387199\n",
      "  5.83747378 15.79233846 17.19585277 14.72576413  5.37867774  2.36008289\n",
      " 23.58761244 12.95028909 18.43546023  4.70090847 28.5730837  11.58021291\n",
      " 23.4451341  23.0719639  18.72758136 25.3879162  11.36256426  7.27087402\n",
      "  0.84380271  8.0590942  17.2321541  23.069917   29.10903484 23.77267063\n",
      " 27.5889801  27.75158987  7.8276366   4.93549607  5.7455848  17.28460123\n",
      "  1.80582445  0.31471438 19.7601472   0.16925879  8.97430982 11.77295931\n",
      "  0.98651029  2.56518975 25.55770475 27.11270907 10.39235216  2.34390975\n",
      " 16.63188555 22.12845815 26.46692071 28.71790502  8.94910543  4.68957895\n",
      " 27.57749441 19.43902989 28.54802883 11.41422247 24.46611884 16.68469945\n",
      "  8.98169615 24.68572806  8.18126911 12.453284   28.38773573 11.14568707\n",
      " 16.35155928 17.58690761 18.45662809 25.65408447 26.49724623  1.4750015\n",
      " 15.91857323 23.84776581 20.66671906 25.40891752 29.83377309  6.43866241\n",
      " 14.53173576 17.80253565 28.18607304  4.54324846  1.0438267   3.0377238\n",
      " 26.03083787  7.99403324  8.8277187  27.06258281  8.71063653 26.11714817\n",
      " 12.02870685 17.9058532  16.31830234 24.28473378 19.96535064 16.58902409\n",
      "  3.06121882 22.00154501  8.17025758 15.30151122 17.18509283 20.87424962\n",
      " 20.94188204 20.2135585  15.23221064  2.66528042 13.10085618 29.58713662\n",
      " 15.70551094 19.49008973  8.91364351 16.20232138 20.64078229 21.60911802\n",
      " 12.40993195  6.61501578  8.59927256 22.3332849  18.16581815 29.61273564\n",
      "  2.87863604  1.49500044  4.9326684  26.08906931  6.55421159  5.8747507\n",
      "  3.60355526  1.96484894  3.01647639 28.99868642 25.60403252 11.59598228\n",
      " 20.34425711 22.96114794 11.98038728  4.44791429 15.52701356  7.71158903\n",
      " 17.7799348  25.57249994 16.50466316 23.16462704 11.17003913 22.39253025\n",
      "  4.59710552 25.94406273 23.91808109 25.02168894 14.33192802 18.70590856\n",
      "  9.45593133 18.65111837 18.38983038 29.06256739  5.16050063 26.44004095\n",
      "  1.63416868 16.8976593  24.95999297 12.23472838 13.39724454 22.99312472\n",
      " 27.75956673 15.52197998 12.88930817 10.36534991 20.7848112  18.83443938\n",
      "  9.98290667 21.36362044 25.21011863  1.50982294 19.87028247  9.4131368\n",
      " 20.98928003  3.79959574  2.87339142  8.3909131  19.52235635 29.78634223\n",
      " 20.0982261  14.26844931 29.49485431  0.74347926 21.69330645 11.83852239\n",
      " 27.43763453 24.63559958 12.1257792  16.72249193 22.00461478 16.83200601\n",
      " 15.83116505 28.81080429 19.86346581 11.61839168 16.12526642 26.18176324\n",
      "  1.36005666 29.68029052 29.4658698   0.65326411 20.34029476 29.67277592\n",
      " 22.07653673 20.00649254 12.83627282  6.45372449 21.66679265 13.38449085\n",
      " 18.16922494 27.59416048 24.39572787 26.51161269 17.4057311  27.54299491\n",
      "  7.909161    9.97326958 10.43623064  0.0320477  22.99717771  0.48863696\n",
      " 15.36711931 21.91648537 21.53076888  8.24081922 17.64670386 27.09016389\n",
      "  0.24635688 19.38336367  3.03366914  7.01959931 24.54705997 10.47553899\n",
      " 25.1444855  24.43241378 25.82632264  4.36072854 23.56048976  8.26466975\n",
      " 15.86898427  3.9711548  27.1111845   4.18085904  2.11664585 18.36612919\n",
      " 29.42456952 11.24706146  1.27284497 17.28850743 16.3287872  23.2903493\n",
      " 13.45034862  3.56396803 19.97548952 10.32878173 19.90608749  8.08918015\n",
      " 26.82977158 16.10550655 25.93735099 24.5295573  10.76028945 16.44757308\n",
      "  9.35382453  0.97235597 20.67841569  7.6361524  28.28568411  0.16047465\n",
      "  1.9196901  22.29533977 19.19822901 18.99161994  6.74483595 14.39037808\n",
      "  9.29054322  4.15374266 21.27788451 25.06460164 21.33292252  1.03239272\n",
      "  4.97029574 15.5319854  10.84587937 21.39930405 11.56828316 12.85133087\n",
      " 20.14575014 22.98718952 11.38583764 19.85867398 24.78810358  6.91393113\n",
      " 27.35901141 24.53666019 11.74311354 23.43836844  3.4127455  24.98730747\n",
      " 19.74869104  1.95514805  8.89395258 22.61528672  8.87949115 12.42136536\n",
      " 16.09799    25.10089998 17.08924937  3.37461499  3.09324293 29.51121812\n",
      " 18.76895905 27.71230513  9.63399152  6.73216579 29.83634909  9.3395651\n",
      " 29.74489775  4.9965603  25.28357003 10.89970991 16.77439172 10.55552101\n",
      " 23.05058812  5.91844324 15.25824728 27.94300249 19.10197243 26.74756683\n",
      "  8.24105378  9.28618108 17.70593258 15.00485221 18.35155291 11.86939325\n",
      " 14.4770972  17.266638    6.32713578  3.66602702 17.67075942  5.06870185\n",
      "  4.78330163  5.13654582 17.02293695 12.03549645 28.38588194 22.55573555\n",
      " 13.08293103  2.98503117 17.75748424  1.56745099  3.33595641  6.0054029\n",
      " 14.93883996 14.24086476  3.7477186  24.87691332 19.5489744  25.48477862\n",
      "  0.24963235 20.13657949  2.6690419  15.88226196 10.06192586  2.01701916\n",
      " 28.84824965 26.98592627 21.01793167 27.25720077 29.64427599 12.77151277\n",
      "  4.42491646  8.54672284  2.50034009 23.39187564  2.27813326 17.31504488\n",
      "  6.00883221 19.98270987 11.33323502 25.88328047 10.71520384 18.58227808\n",
      " 22.94019209  1.49856436 19.92565832  9.82319533  1.07777964 28.52336742\n",
      " 16.01906626 16.02300822 13.76624411 28.53245637 13.23220732 17.91930892\n",
      " 12.67989057 29.21131168 23.7679609  19.25889028 20.73653798 28.81610923\n",
      "  4.41596035 25.46509197 22.26389637 10.8245927  17.10064728 28.92624019\n",
      "  0.64495378 14.62034057  0.7601452  20.02903878 23.17723654 27.62972106\n",
      "  7.90489651 14.92468128 15.73552766 29.09531582 10.82891804 19.41867011\n",
      " 13.9192441   2.11330042 22.33767663  6.04119062  5.39290035 18.55332444\n",
      " 17.82373667 24.13319004 27.06792806 21.86831162  8.75298179 13.5590926\n",
      " 20.05577369  3.38388002  1.09783134 24.95353544  4.59604874 21.80739173\n",
      "  8.49592944  9.26345771  2.61775656 17.27974226 21.87328282 19.82920889\n",
      "  3.02263904 27.2065017  13.52852613 10.60920711 23.68612888 28.66221063\n",
      " 16.64326629 15.31469476  7.41416718 11.65412537 22.71050069 27.54986097\n",
      " 29.79763618 25.50198265 21.88834024 23.68196243 15.45927833  1.19289599\n",
      "  1.94609858 21.69626579  4.78549517 15.03846497 29.16141307  3.71020162\n",
      "  0.50555038 15.72435341 20.0695871   3.63117527  0.47738572 17.05510221\n",
      " 27.68851386 13.08451645 29.82736362  5.93328388 12.88697126 23.2272421\n",
      "  0.35299594 11.30396102 16.78633222 17.62256922  5.06112636  8.06363811\n",
      "  2.61795958  5.67620623 15.54972723 26.73061533 19.17678231 13.5402091\n",
      "  0.82728187  0.5662092   6.493998    3.69267038  6.92722191 10.74318836\n",
      "  5.45104671 16.88865002 29.06326134 21.53094081  9.90326889 25.0780935\n",
      " 27.12807538  6.74824411 29.910215   28.23199492 18.39049993 17.54734522\n",
      " 17.94698397 14.30287542  1.80723035 18.27120699 14.7711256   1.2229273\n",
      " 18.56734722 12.7221664   2.84200409  6.32719571 22.54439893 22.53961001\n",
      "  8.48336438  6.51793863 29.98611296 17.48140772 14.70127208 24.13113689\n",
      " 17.20892356 28.00543055  8.27376553  6.25668546  6.14632042 28.57705845\n",
      "  0.50502194  0.74332736  2.5388775   6.09876378  2.89377675 27.01655273\n",
      " 14.46545547 11.42233604 18.34043482 27.97141616 12.36122728 13.77240958\n",
      " 23.16271345 11.58176658 21.85435588 15.49210301  9.33584897 26.36481797\n",
      "  6.75078519 26.93211733  6.42066025 19.95206393  2.60152234 15.86969357\n",
      "  0.99927044  3.78127872 11.2810893  19.2279774   4.53982981 24.05103492\n",
      " 12.8940199   7.72645873 11.0994772   3.88714658 15.63367502 19.5522957\n",
      " 26.52105863 12.70016718  1.46565788 19.39993687 26.99389422 13.93164132\n",
      " 17.08668167 19.12728777 27.98833451 23.39905611]\n"
     ]
    }
   ],
   "source": [
    "# Generate 1000 wait times between 0 and 30 mins\n",
    "wait_times = uniform.rvs(0, 30, size=1000)\n",
    "print(wait_times)"
   ]
  },
  {
   "cell_type": "code",
   "execution_count": 20,
   "metadata": {},
   "outputs": [
    {
     "data": {
      "image/png": "[encoded data removed]",
      "text/plain": [
       "<Figure size 432x288 with 1 Axes>"
      ]
     },
     "metadata": {
      "needs_background": "light"
     },
     "output_type": "display_data"
    }
   ],
   "source": [
    "#histogram of wait times\n",
    "plt.hist(wait_times)\n",
    "plt.show()"
   ]
  },
  {
   "cell_type": "code",
   "execution_count": 21,
   "metadata": {},
   "outputs": [],
   "source": [
    "# Import binom from scipy.stats\n",
    "from scipy.stats import binom"
   ]
  },
  {
   "cell_type": "code",
   "execution_count": 22,
   "metadata": {},
   "outputs": [],
   "source": [
    "# Set random seed to 10\n",
    "np.random.seed(10)"
   ]
  },
  {
   "cell_type": "code",
   "execution_count": 23,
   "metadata": {},
   "outputs": [
    {
     "name": "stdout",
     "output_type": "stream",
     "text": [
      "[1]\n"
     ]
    }
   ],
   "source": [
    "# Simulate a single deal\n",
    "print(binom.rvs(1, 0.3, size=1))"
   ]
  },
  {
   "cell_type": "code",
   "execution_count": 24,
   "metadata": {},
   "outputs": [
    {
     "name": "stdout",
     "output_type": "stream",
     "text": [
      "0.8461538461538461\n"
     ]
    }
   ],
   "source": [
    "# Simulate 52 weeks(a year) of 3 deals,print deals won per week\n",
    "deals = binom.rvs(3, 0.3, size=52)\n",
    "print(np.mean(deals))"
   ]
  },
  {
   "cell_type": "code",
   "execution_count": 25,
   "metadata": {},
   "outputs": [
    {
     "name": "stdout",
     "output_type": "stream",
     "text": [
      "0.026999999999999982\n"
     ]
    }
   ],
   "source": [
    "# Probability of closing 3 out of 3 deals\n",
    "prob_3 = binom.pmf(3, 3, 0.3)\n",
    "print(prob_3)"
   ]
  },
  {
   "cell_type": "code",
   "execution_count": 26,
   "metadata": {},
   "outputs": [
    {
     "name": "stdout",
     "output_type": "stream",
     "text": [
      "0.7839999999999999\n"
     ]
    }
   ],
   "source": [
    "# Probability of closing <= 1 deal out of 3 deals\n",
    "prob_less_than_or_equal_1 = binom.cdf(1, 3, 0.3)\n",
    "print(prob_less_than_or_equal_1)"
   ]
  },
  {
   "cell_type": "code",
   "execution_count": 27,
   "metadata": {},
   "outputs": [
    {
     "name": "stdout",
     "output_type": "stream",
     "text": [
      "0.21600000000000008\n"
     ]
    }
   ],
   "source": [
    "# Probability of closing > 1 deal out of 3 deals\n",
    "prob_greater_than_1 = 1 - binom.cdf(1, 3, 0.3)\n",
    "print(prob_greater_than_1)"
   ]
  },
  {
   "cell_type": "code",
   "execution_count": 28,
   "metadata": {},
   "outputs": [
    {
     "name": "stdout",
     "output_type": "stream",
     "text": [
      "0.8999999999999999\n",
      "0.75\n",
      "1.0499999999999998\n"
     ]
    }
   ],
   "source": [
    "# Expected number won with 30% win rate\n",
    "won_30pct = 3 * 0.3\n",
    "print(won_30pct)\n",
    "\n",
    "# Expected number won with 25% win rate\n",
    "won_25pct = 3 * 0.25\n",
    "print(won_25pct)\n",
    "\n",
    "# Expected number won with 35% win rate\n",
    "won_35pct = 3 * 0.35\n",
    "print(won_35pct)"
   ]
  },
  {
   "cell_type": "code",
   "execution_count": null,
   "metadata": {},
   "outputs": [],
   "source": []
  }
 ],
 "metadata": {
  "kernelspec": {
   "display_name": "Python 3",
   "language": "python",
   "name": "python3"
  },
  "language_info": {
   "codemirror_mode": {
    "name": "ipython",
    "version": 3
   },
   "file_extension": ".py",
   "mimetype": "text/x-python",
   "name": "python",
   "nbconvert_exporter": "python",
   "pygments_lexer": "ipython3",
   "version": "3.7.6"
  }
 },
 "nbformat": 4,
 "nbformat_minor": 4
}
